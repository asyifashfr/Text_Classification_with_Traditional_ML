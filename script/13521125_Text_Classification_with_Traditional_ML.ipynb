{
  "cells": [
    {
      "cell_type": "markdown",
      "metadata": {},
      "source": [
        "Nama: Asyifa Nurul Shafira\n",
        "\n",
        "NIM: 13521125"
      ]
    },
    {
      "cell_type": "markdown",
      "metadata": {
        "id": "QccZisFfBb_a"
      },
      "source": [
        "# Preprocessing"
      ]
    },
    {
      "cell_type": "code",
      "execution_count": 20,
      "metadata": {
        "colab": {
          "base_uri": "https://localhost:8080/"
        },
        "id": "0IS19ZcBb_yc",
        "outputId": "5476f3f2-8971-4005-e331-f9ff09314683"
      },
      "outputs": [
        {
          "name": "stderr",
          "output_type": "stream",
          "text": [
            "[nltk_data] Downloading package stopwords to\n",
            "[nltk_data]     C:\\Users\\asyifashfr\\AppData\\Roaming\\nltk_data...\n",
            "[nltk_data]   Package stopwords is already up-to-date!\n"
          ]
        }
      ],
      "source": [
        "import pandas as pd\n",
        "from nltk.corpus import stopwords\n",
        "import nltk\n",
        "\n",
        "nltk.download('stopwords')\n",
        "\n",
        "# Load dataset\n",
        "train_df = pd.read_csv('../data/train_preprocess.tsv', delimiter='\\t', header=None, names=['text', 'label'])\n",
        "test_df = pd.read_csv('../data/test_preprocess.tsv', delimiter='\\t', header=None, names=['text', 'label'])\n",
        "\n",
        "# Set stopwords untuk Bahasa Indonesia\n",
        "stop_words = set(stopwords.words('indonesian'))\n",
        "\n",
        "# Fungsi preprocessing\n",
        "def preprocess_text(text):\n",
        "    # Mengubah teks menjadi huruf kecil\n",
        "    text = text.lower()\n",
        "    # Memecah teks menjadi token\n",
        "    tokens = text.split()\n",
        "    # Menghapus stop-word\n",
        "    tokens = [word for word in tokens if word not in stop_words]\n",
        "    return ' '.join(tokens)\n",
        "\n",
        "# Mengaplikasikan preprocessing pada data latih dan data uji\n",
        "train_df['text'] = train_df['text'].apply(preprocess_text)\n",
        "test_df['text'] = test_df['text'].apply(preprocess_text)"
      ]
    },
    {
      "cell_type": "markdown",
      "metadata": {
        "id": "CmCB2bx_CIvI"
      },
      "source": [
        "# Ekstraksi Fitur"
      ]
    },
    {
      "cell_type": "code",
      "execution_count": 21,
      "metadata": {
        "id": "P6uMZijDcafT"
      },
      "outputs": [],
      "source": [
        "from sklearn.model_selection import train_test_split\n",
        "from sklearn.feature_extraction.text import CountVectorizer\n",
        "\n",
        "# Memisahkan data latih dan data uji\n",
        "X_train, X_test, y_train, y_test = train_test_split(train_df['text'], train_df['label'], test_size=0.2, random_state=42)\n",
        "\n",
        "# Menggunakan CountVectorizer untuk mengubah teks menjadi representasi numerik berbasis frekuensi kata (Bag of Words)\n",
        "vectorizer = CountVectorizer()"
      ]
    },
    {
      "cell_type": "markdown",
      "metadata": {
        "id": "NmF7gG7TZw27"
      },
      "source": [
        "# Model"
      ]
    },
    {
      "cell_type": "code",
      "execution_count": 22,
      "metadata": {
        "id": "IMp3Bo10Zzmv"
      },
      "outputs": [],
      "source": [
        "from sklearn.model_selection import GridSearchCV\n",
        "from sklearn.naive_bayes import MultinomialNB\n",
        "from sklearn.linear_model import LogisticRegression\n",
        "from sklearn.svm import SVC\n",
        "from imblearn.over_sampling import RandomOverSampler\n",
        "from imblearn.under_sampling import RandomUnderSampler\n",
        "from imblearn.pipeline import Pipeline as ImbPipeline\n",
        "\n",
        "# Penyeimbangan data dengan RandomOversampler untuk kelas minoritas\n",
        "oversampler = RandomOverSampler(random_state=42)\n",
        "\n",
        "# Pipeline Naive Bayes dengan oversampling\n",
        "nb_pipeline = ImbPipeline([\n",
        "    ('vectorizer', vectorizer),\n",
        "    ('oversampler', oversampler),\n",
        "    ('classifier', MultinomialNB())\n",
        "])\n",
        "\n",
        "# Pipeline Logistic Regression dengan GridSearchCV dan oversampling\n",
        "logreg_pipeline = ImbPipeline([\n",
        "    ('vectorizer', vectorizer),\n",
        "    ('oversampler', oversampler),\n",
        "    ('classifier', LogisticRegression(max_iter=1000))\n",
        "])\n",
        "\n",
        "# Hyperparameter tuning untuk Logistic Regression\n",
        "logreg_param_grid = {\n",
        "    'classifier__C': [0.1, 1, 10],  # Mengatur tingkat regularisasi C, nilai kecil memberikan regularisasi lebih besar\n",
        "    'classifier__solver': ['liblinear', 'lbfgs'] # Solver yang digunakan untuk menghitung Logistic Regression\n",
        "}\n",
        "logreg_grid = GridSearchCV(logreg_pipeline, logreg_param_grid, cv=5) # Melakukan pencarian parameter dengan cross-validation 5-fold\n",
        "\n",
        "# Pipeline SVM dengan oversampling\n",
        "svm_pipeline = ImbPipeline([\n",
        "    ('vectorizer', vectorizer),\n",
        "    ('oversampler', oversampler),\n",
        "    ('classifier', SVC())\n",
        "])"
      ]
    },
    {
      "cell_type": "markdown",
      "metadata": {
        "id": "vn_iOZNKCP4x"
      },
      "source": [
        "# Pelatihan dan Evaluasi"
      ]
    },
    {
      "cell_type": "code",
      "execution_count": 23,
      "metadata": {
        "colab": {
          "base_uri": "https://localhost:8080/"
        },
        "id": "NBZKopdcce6y",
        "outputId": "da6313f9-0259-40d4-8e7c-a9534075dd40"
      },
      "outputs": [
        {
          "name": "stdout",
          "output_type": "stream",
          "text": [
            "\n",
            "=== Naive Bayes Results ===\n",
            "Accuracy: 0.8313636363636364\n",
            "Precision (weighted): 0.8303951673296521\n",
            "Recall (weighted): 0.8313636363636364\n",
            "F1-Score (weighted): 0.8306650149195586\n",
            "\n",
            "Classification Report:\n",
            "               precision    recall  f1-score   support\n",
            "\n",
            "    negative       0.78      0.74      0.76       680\n",
            "     neutral       0.74      0.76      0.75       239\n",
            "    positive       0.87      0.89      0.88      1281\n",
            "\n",
            "    accuracy                           0.83      2200\n",
            "   macro avg       0.80      0.80      0.80      2200\n",
            "weighted avg       0.83      0.83      0.83      2200\n",
            "\n",
            "==================================================\n",
            "\n",
            "=== Logistic Regression (with tuning) Results ===\n",
            "Accuracy: 0.8418181818181818\n",
            "Precision (weighted): 0.8466360088430017\n",
            "Recall (weighted): 0.8418181818181818\n",
            "F1-Score (weighted): 0.8434669697208951\n",
            "\n",
            "Classification Report:\n",
            "               precision    recall  f1-score   support\n",
            "\n",
            "    negative       0.77      0.81      0.79       680\n",
            "     neutral       0.72      0.80      0.76       239\n",
            "    positive       0.91      0.87      0.89      1281\n",
            "\n",
            "    accuracy                           0.84      2200\n",
            "   macro avg       0.80      0.83      0.81      2200\n",
            "weighted avg       0.85      0.84      0.84      2200\n",
            "\n",
            "==================================================\n",
            "\n",
            "=== SVM Results ===\n",
            "Accuracy: 0.8340909090909091\n",
            "Precision (weighted): 0.8352122612486028\n",
            "Recall (weighted): 0.8340909090909091\n",
            "F1-Score (weighted): 0.8345824905037513\n",
            "\n",
            "Classification Report:\n",
            "               precision    recall  f1-score   support\n",
            "\n",
            "    negative       0.75      0.77      0.76       680\n",
            "     neutral       0.78      0.77      0.77       239\n",
            "    positive       0.89      0.88      0.89      1281\n",
            "\n",
            "    accuracy                           0.83      2200\n",
            "   macro avg       0.81      0.81      0.81      2200\n",
            "weighted avg       0.84      0.83      0.83      2200\n",
            "\n",
            "==================================================\n"
          ]
        }
      ],
      "source": [
        "from sklearn.metrics import accuracy_score, precision_score, recall_score, f1_score, classification_report\n",
        "\n",
        "# Fungsi untuk melatih model dan mengevaluasinya\n",
        "def evaluate_model(model, X_train, X_test, y_train, y_test, model_name):\n",
        "    # Melatih model dengan data training\n",
        "    model.fit(X_train, y_train)\n",
        "\n",
        "    # Prediksi data test\n",
        "    y_pred = model.predict(X_test)\n",
        "\n",
        "    # Menghitung metrik evaluasi\n",
        "    accuracy = accuracy_score(y_test, y_pred)\n",
        "    precision = precision_score(y_test, y_pred, average='weighted')\n",
        "    recall = recall_score(y_test, y_pred, average='weighted')\n",
        "    f1 = f1_score(y_test, y_pred, average='weighted')\n",
        "\n",
        "    print(f\"\\n=== {model_name} Results ===\")\n",
        "    print(f\"Accuracy: {accuracy}\")\n",
        "    print(f\"Precision (weighted): {precision}\")\n",
        "    print(f\"Recall (weighted): {recall}\")\n",
        "    print(f\"F1-Score (weighted): {f1}\\n\")\n",
        "    print(\"Classification Report:\\n\", classification_report(y_test, y_pred))\n",
        "    print(\"=\"*50)\n",
        "\n",
        "# Evaluasi model Naive Bayes\n",
        "evaluate_model(nb_pipeline, X_train, X_test, y_train, y_test, \"Naive Bayes\")\n",
        "\n",
        "# Evaluasi model Logistic Regression setelah tuning hyperparameter dengan Grid Search\n",
        "logreg_grid.fit(X_train, y_train) # Melakukan tuning\n",
        "evaluate_model(logreg_grid, X_train, X_test, y_train, y_test, \"Logistic Regression (with tuning)\")\n",
        "\n",
        "# Evaluasi model SVM\n",
        "evaluate_model(svm_pipeline, X_train, X_test, y_train, y_test, \"SVM\")"
      ]
    }
  ],
  "metadata": {
    "colab": {
      "provenance": []
    },
    "kernelspec": {
      "display_name": "Python 3",
      "name": "python3"
    },
    "language_info": {
      "codemirror_mode": {
        "name": "ipython",
        "version": 3
      },
      "file_extension": ".py",
      "mimetype": "text/x-python",
      "name": "python",
      "nbconvert_exporter": "python",
      "pygments_lexer": "ipython3",
      "version": "3.12.2"
    }
  },
  "nbformat": 4,
  "nbformat_minor": 0
}
